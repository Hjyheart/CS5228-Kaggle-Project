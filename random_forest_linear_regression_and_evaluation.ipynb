{
 "cells": [
  {
   "cell_type": "code",
   "id": "initial_id",
   "metadata": {
    "collapsed": true,
    "ExecuteTime": {
     "end_time": "2024-11-11T08:46:09.342323Z",
     "start_time": "2024-11-11T08:46:09.340241Z"
    }
   },
   "source": [
    "import pandas as pd\n",
    "\n",
    "from sklearn.metrics import mean_squared_error\n",
    "from sklearn.model_selection import train_test_split\n",
    "from sklearn.ensemble import RandomForestRegressor\n",
    "from sklearn.linear_model import LinearRegression\n",
    "from sklearn.metrics import mean_absolute_error, root_mean_squared_error, r2_score\n",
    "\n",
    "\n",
    "import carly"
   ],
   "outputs": [],
   "execution_count": 16
  },
  {
   "cell_type": "markdown",
   "id": "5db8329bab8c572b",
   "metadata": {},
   "source": [
    "## Read Data"
   ]
  },
  {
   "cell_type": "code",
   "id": "5d4f994e484b5804",
   "metadata": {
    "ExecuteTime": {
     "end_time": "2024-11-11T08:37:23.810725Z",
     "start_time": "2024-11-11T08:37:23.804138Z"
    }
   },
   "source": [
    "def model_preprocessing(input_df):\n",
    "    \n",
    "    input_df = input_df.drop(columns = ['eco_category', # same value for all records\n",
    "                                        'indicative_price', # same value for all records\n",
    "                                        'lifespan', #more than 90% of records null values \n",
    "                                       ])\n",
    "    \n",
    "    ####################### data processing ######################\n",
    "    ##############################################################\n",
    "    \n",
    "    input_df    = carly.dataproc.DEDUP_listingid(df = input_df)\n",
    "    \n",
    "    input_df    = carly.dataproc.FIXNULL_make(df = input_df)\n",
    "    input_df    = carly.dataproc.FIXNULL_manufacture(df = input_df)\n",
    "    input_df    = carly.dataproc.FIXNULL_ownercount(df = input_df)\n",
    "    input_df    = carly.dataproc.FIXNULL_dereg(df = input_df)\n",
    "    input_df    = carly.dataproc.FIXNULL_fueltype(df = input_df)\n",
    "    \n",
    "    input_df    = carly.dataproc.ENCODE_category(df = input_df, drop = False)\n",
    "    input_df    = carly.dataproc.ENCODE_transmission(df = input_df, drop=True)\n",
    "    input_df    = carly.dataproc.ENCODE_vehtype(df = input_df, drop=False)\n",
    "    input_df    = carly.dataproc.ENCODE_make(df = input_df, drop=False)\n",
    "    input_df    = carly.dataproc.ENCODE_fueltype(df = input_df, drop=False)\n",
    "    input_df    = carly.dataproc.ENCODE_model(df = input_df, drop=False)\n",
    "    input_df    = carly.dataproc.ENCODE_opcscheme(df = input_df)\n",
    "    \n",
    "    input_df    = carly.dataproc.EXTRACT_features(df = input_df)\n",
    "    input_df    = carly.dataproc.EXTRACT_desc(df = input_df)\n",
    "    input_df    = carly.dataproc.EXTRACT_accessories(df = input_df)\n",
    "    \n",
    "    input_df    = carly.dataproc.CALC_currentage(df = input_df)\n",
    "    input_df    = carly.dataproc.CALC_remainage(df = input_df)\n",
    "    \n",
    "    input_df    = carly.dataproc.IMPUTENULL_power(df = input_df)\n",
    "    input_df    = carly.dataproc.IMPUTENULL_curbweight(df = input_df)\n",
    "    input_df    = carly.dataproc.IMPUTENULL_enginecap(df = input_df)\n",
    "    input_df    = carly.dataproc.IMPUTENULL_depreciation(df = input_df)\n",
    "    input_df    = carly.dataproc.IMPUTENULL_omv(df = input_df)\n",
    "    input_df    = carly.dataproc.IMPUTENULL_arf(df = input_df)\n",
    "    input_df    = carly.dataproc.IMPUTENULL_mileage(df = input_df)\n",
    "    input_df    = carly.dataproc.IMPUTENULL_roadtax(df = input_df)\n",
    "    \n",
    "    input_df    = carly.dataproc.RATIO_ownertoage(df = input_df)\n",
    "    input_df    = carly.dataproc.RATIO_miletoage(df = input_df)\n",
    "    input_df    = carly.dataproc.RATIO_curbtopower(df = input_df)\n",
    "    input_df    = carly.dataproc.RATIO_indirectcost(df = input_df)\n",
    "    input_df    = carly.dataproc.RATIO_ARFtoOMV(df = input_df)\n",
    "    input_df    = carly.dataproc.RATIO_ARFtoDEREG(df = input_df)\n",
    "    input_df    = carly.dataproc.RATIO_miletoowner(df = input_df)\n",
    "\n",
    "    ### enable categorical without encoding ######################\n",
    "    ##############################################################\n",
    "    \n",
    "    cat_features = [\"make\", \"type_of_vehicle\", \"fuel_type\", \"model\", \"CAT-elechybrid\", \"CAT-coeparf\",]\n",
    "    input_df[cat_features] = input_df[cat_features].astype('category')\n",
    "    \n",
    "    return input_df"
   ],
   "outputs": [],
   "execution_count": 3
  },
  {
   "cell_type": "code",
   "id": "19dea0678749a2b5",
   "metadata": {
    "ExecuteTime": {
     "end_time": "2024-11-11T08:38:53.719888Z",
     "start_time": "2024-11-11T08:38:18.913763Z"
    }
   },
   "source": [
    "train_df_RAW                    = pd.read_csv(r\"./dataset/train.csv\")\n",
    "test_df_RAW                     = pd.read_csv(r\"./dataset/test.csv\")\n",
    "cat_encoding                    = True\n",
    "\n",
    "train_df                        = model_preprocessing(input_df = train_df_RAW)\n",
    "train_df_base, train_df_eval    = train_test_split(train_df, test_size=0.2, random_state=888888)\n",
    "test_df                         = model_preprocessing(input_df = test_df_RAW)\n",
    "\n",
    "# ### Remove outliers from training dataset\n",
    "train_df        = train_df.loc[~(train_df['AGE-remaining']<0) | ~(train_df['AGE-currentREG']<0)]\n",
    "outlier_df      = carly.outlier_detection.identify_outliers(df=train_df)\n",
    "train_df        = outlier_df.loc[(outlier_df['cluster']!=-1) & (outlier_df['CAT-rare&exotic']!=1)].drop(columns=['cluster'])"
   ],
   "outputs": [
    {
     "name": "stderr",
     "output_type": "stream",
     "text": [
      "/Users/jiayonghong/Desktop/workspace/CS5228-Kaggle-Project/carly/dataproc.py:346: FutureWarning: Downcasting object dtype arrays on .fillna, .ffill, .bfill is deprecated and will change in a future version. Call result.infer_objects(copy=False) instead. To opt-in to the future behavior, set `pd.set_option('future.no_silent_downcasting', True)`\n",
      "  df['opc_scheme'] = df['opc_scheme'].fillna(0)  # Fill remaining nulls with 0\n",
      "/Users/jiayonghong/Desktop/workspace/CS5228-Kaggle-Project/carly/dataproc.py:346: FutureWarning: Downcasting object dtype arrays on .fillna, .ffill, .bfill is deprecated and will change in a future version. Call result.infer_objects(copy=False) instead. To opt-in to the future behavior, set `pd.set_option('future.no_silent_downcasting', True)`\n",
      "  df['opc_scheme'] = df['opc_scheme'].fillna(0)  # Fill remaining nulls with 0\n"
     ]
    },
    {
     "name": "stdout",
     "output_type": "stream",
     "text": [
      "Number of components to retain 90% variance: 52\n"
     ]
    },
    {
     "data": {
      "text/plain": [
       "<Figure size 1000x600 with 1 Axes>"
      ],
      "image/png": "[encoded data removed]"
     },
     "metadata": {},
     "output_type": "display_data"
    },
    {
     "name": "stdout",
     "output_type": "stream",
     "text": [
      "Anomalies found: 267\n"
     ]
    }
   ],
   "execution_count": 4
  },
  {
   "cell_type": "markdown",
   "id": "c1ec194c0f2ffd70",
   "metadata": {},
   "source": ""
  },
  {
   "cell_type": "code",
   "id": "864ed89fe550ae5d",
   "metadata": {
    "ExecuteTime": {
     "end_time": "2024-11-11T08:38:53.786829Z",
     "start_time": "2024-11-11T08:38:53.785317Z"
    }
   },
   "source": "",
   "outputs": [],
   "execution_count": null
  },
  {
   "cell_type": "code",
   "id": "be283d3056dbfeb2",
   "metadata": {
    "ExecuteTime": {
     "end_time": "2024-11-11T08:38:53.811460Z",
     "start_time": "2024-11-11T08:38:53.809732Z"
    }
   },
   "source": [],
   "outputs": [],
   "execution_count": null
  },
  {
   "cell_type": "code",
   "id": "2873d15929b603e8",
   "metadata": {
    "ExecuteTime": {
     "end_time": "2024-11-11T08:41:14.378301Z",
     "start_time": "2024-11-11T08:41:14.376482Z"
    }
   },
   "source": [
    "feature_list = carly.params.ENCODED_feature_list \n",
    "target = carly.params.target"
   ],
   "outputs": [],
   "execution_count": 7
  },
  {
   "cell_type": "code",
   "id": "bcade8fec0403f03",
   "metadata": {
    "ExecuteTime": {
     "end_time": "2024-11-11T08:47:59.422930Z",
     "start_time": "2024-11-11T08:47:53.844124Z"
    }
   },
   "source": [
    "\n",
    "rf_model = RandomForestRegressor(n_estimators=100, random_state=42)\n",
    "rf_model = RandomForestRegressor(**{'max_depth': 20,\n",
    " 'max_features': 'sqrt',\n",
    " 'min_samples_leaf': 1,\n",
    " 'min_samples_split': 2,\n",
    " 'n_estimators': 200}\n",
    ")\n",
    "rf_model.fit(train_df_base[feature_list], train_df_base[target])\n",
    "\n",
    "y_pred_eval_rf = rf_model.predict(train_df_eval[feature_list])"
   ],
   "outputs": [],
   "execution_count": 23
  },
  {
   "cell_type": "code",
   "execution_count": 42,
   "id": "407bd2fb2cba776f",
   "metadata": {
    "ExecuteTime": {
     "end_time": "2024-11-08T15:08:05.682520Z",
     "start_time": "2024-11-08T15:08:05.679919Z"
    }
   },
   "outputs": [
    {
     "data": {
      "text/plain": [
       "\"\\nparam_grid = {\\n    'n_estimators': [100, 200, 300],\\n    'max_depth': [10, 20],\\n    'min_samples_split': [2, 5, 10],\\n    'min_samples_leaf': [1, 2, 4],\\n    'max_features': ['auto', 'sqrt']\\n}\\n\\nrf_model_tune = RandomForestRegressor(random_state=42)\\n\\ngrid_search = GridSearchCV(estimator=rf_model_tune, param_grid=param_grid, cv=3, n_jobs=-1, verbose=2)\\n\\ngrid_search.fit(X_train, y_train)\\n\\nbest_params = grid_search.best_params_\\nbest_params\\n\""
      ]
     },
     "execution_count": 42,
     "metadata": {},
     "output_type": "execute_result"
    }
   ],
   "source": [
    "\"\"\"\n",
    "param_grid = {\n",
    "    'n_estimators': [100, 200, 300],\n",
    "    'max_depth': [10, 20],\n",
    "    'min_samples_split': [2, 5, 10],\n",
    "    'min_samples_leaf': [1, 2, 4],\n",
    "    'max_features': ['auto', 'sqrt']\n",
    "}\n",
    "\n",
    "rf_model_tune = RandomForestRegressor(random_state=42)\n",
    "\n",
    "grid_search = GridSearchCV(estimator=rf_model_tune, param_grid=param_grid, cv=3, n_jobs=-1, verbose=2)\n",
    "\n",
    "grid_search.fit(X_train, y_train)\n",
    "\n",
    "best_params = grid_search.best_params_\n",
    "best_params\n",
    "\"\"\"\n"
   ]
  },
  {
   "cell_type": "code",
   "id": "1aea24323ffa1944",
   "metadata": {
    "ExecuteTime": {
     "end_time": "2024-11-11T08:48:14.771070Z",
     "start_time": "2024-11-11T08:48:14.769421Z"
    }
   },
   "source": [
    "# rf_model = RandomForestRegressor(**{'max_depth': 20,\n",
    "#  'max_features': 'sqrt',\n",
    "#  'min_samples_leaf': 1,\n",
    "#  'min_samples_split': 2,\n",
    "#  'n_estimators': 200})"
   ],
   "outputs": [],
   "execution_count": 24
  },
  {
   "cell_type": "markdown",
   "id": "12f2121464e7b1cd",
   "metadata": {},
   "source": "## Evaluation on Random Forest & Linear Regression"
  },
  {
   "cell_type": "code",
   "id": "47ba81f6d0130be5",
   "metadata": {
    "ExecuteTime": {
     "end_time": "2024-11-11T08:48:16.007690Z",
     "start_time": "2024-11-11T08:48:16.002711Z"
    }
   },
   "source": "mean_absolute_error(train_df_eval[target], y_pred_eval_rf)",
   "outputs": [
    {
     "data": {
      "text/plain": [
       "6516.116285857217"
      ]
     },
     "execution_count": 25,
     "metadata": {},
     "output_type": "execute_result"
    }
   ],
   "execution_count": 25
  },
  {
   "cell_type": "code",
   "id": "b45e6d5f2f55c361",
   "metadata": {
    "ExecuteTime": {
     "end_time": "2024-11-11T08:48:16.654305Z",
     "start_time": "2024-11-11T08:48:16.650276Z"
    }
   },
   "source": "root_mean_squared_error(train_df_eval[target], y_pred_eval_rf)",
   "outputs": [
    {
     "data": {
      "text/plain": [
       "25143.354073252493"
      ]
     },
     "execution_count": 26,
     "metadata": {},
     "output_type": "execute_result"
    }
   ],
   "execution_count": 26
  },
  {
   "cell_type": "code",
   "id": "62eacca7fced3cf3",
   "metadata": {
    "ExecuteTime": {
     "end_time": "2024-11-11T08:48:17.131749Z",
     "start_time": "2024-11-11T08:48:17.128623Z"
    }
   },
   "source": "r2_score(train_df_eval[target], y_pred_eval_rf)",
   "outputs": [
    {
     "data": {
      "text/plain": [
       "0.9727464774874808"
      ]
     },
     "execution_count": 27,
     "metadata": {},
     "output_type": "execute_result"
    }
   ],
   "execution_count": 27
  },
  {
   "cell_type": "code",
   "id": "5cf0ecb3fa164108",
   "metadata": {
    "ExecuteTime": {
     "end_time": "2024-11-11T08:48:19.586288Z",
     "start_time": "2024-11-11T08:48:19.584061Z"
    }
   },
   "source": "",
   "outputs": [],
   "execution_count": null
  },
  {
   "cell_type": "code",
   "id": "cac3e77bd45fe44",
   "metadata": {
    "ExecuteTime": {
     "end_time": "2024-11-11T08:48:19.980529Z",
     "start_time": "2024-11-11T08:48:19.978705Z"
    }
   },
   "source": "",
   "outputs": [],
   "execution_count": null
  },
  {
   "cell_type": "code",
   "id": "eae20eed9f029bed",
   "metadata": {
    "ExecuteTime": {
     "end_time": "2024-11-11T08:48:22.429293Z",
     "start_time": "2024-11-11T08:48:22.426577Z"
    }
   },
   "source": "linear_model = LinearRegression()",
   "outputs": [],
   "execution_count": 28
  },
  {
   "cell_type": "code",
   "id": "26e5a1e6ccff3fbc",
   "metadata": {
    "ExecuteTime": {
     "end_time": "2024-11-11T08:48:22.765422Z",
     "start_time": "2024-11-11T08:48:22.722626Z"
    }
   },
   "source": "linear_model.fit(train_df_base[feature_list], train_df_base[target])",
   "outputs": [
    {
     "data": {
      "text/plain": [
       "LinearRegression()"
      ],
      "text/html": [
       "<style>#sk-container-id-2 {\n",
       "  /* Definition of color scheme common for light and dark mode */\n",
       "  --sklearn-color-text: black;\n",
       "  --sklearn-color-line: gray;\n",
       "  /* Definition of color scheme for unfitted estimators */\n",
       "  --sklearn-color-unfitted-level-0: #fff5e6;\n",
       "  --sklearn-color-unfitted-level-1: #f6e4d2;\n",
       "  --sklearn-color-unfitted-level-2: #ffe0b3;\n",
       "  --sklearn-color-unfitted-level-3: chocolate;\n",
       "  /* Definition of color scheme for fitted estimators */\n",
       "  --sklearn-color-fitted-level-0: #f0f8ff;\n",
       "  --sklearn-color-fitted-level-1: #d4ebff;\n",
       "  --sklearn-color-fitted-level-2: #b3dbfd;\n",
       "  --sklearn-color-fitted-level-3: cornflowerblue;\n",
       "\n",
       "  /* Specific color for light theme */\n",
       "  --sklearn-color-text-on-default-background: var(--sg-text-color, var(--theme-code-foreground, var(--jp-content-font-color1, black)));\n",
       "  --sklearn-color-background: var(--sg-background-color, var(--theme-background, var(--jp-layout-color0, white)));\n",
       "  --sklearn-color-border-box: var(--sg-text-color, var(--theme-code-foreground, var(--jp-content-font-color1, black)));\n",
       "  --sklearn-color-icon: #696969;\n",
       "\n",
       "  @media (prefers-color-scheme: dark) {\n",
       "    /* Redefinition of color scheme for dark theme */\n",
       "    --sklearn-color-text-on-default-background: var(--sg-text-color, var(--theme-code-foreground, var(--jp-content-font-color1, white)));\n",
       "    --sklearn-color-background: var(--sg-background-color, var(--theme-background, var(--jp-layout-color0, #111)));\n",
       "    --sklearn-color-border-box: var(--sg-text-color, var(--theme-code-foreground, var(--jp-content-font-color1, white)));\n",
       "    --sklearn-color-icon: #878787;\n",
       "  }\n",
       "}\n",
       "\n",
       "#sk-container-id-2 {\n",
       "  color: var(--sklearn-color-text);\n",
       "}\n",
       "\n",
       "#sk-container-id-2 pre {\n",
       "  padding: 0;\n",
       "}\n",
       "\n",
       "#sk-container-id-2 input.sk-hidden--visually {\n",
       "  border: 0;\n",
       "  clip: rect(1px 1px 1px 1px);\n",
       "  clip: rect(1px, 1px, 1px, 1px);\n",
       "  height: 1px;\n",
       "  margin: -1px;\n",
       "  overflow: hidden;\n",
       "  padding: 0;\n",
       "  position: absolute;\n",
       "  width: 1px;\n",
       "}\n",
       "\n",
       "#sk-container-id-2 div.sk-dashed-wrapped {\n",
       "  border: 1px dashed var(--sklearn-color-line);\n",
       "  margin: 0 0.4em 0.5em 0.4em;\n",
       "  box-sizing: border-box;\n",
       "  padding-bottom: 0.4em;\n",
       "  background-color: var(--sklearn-color-background);\n",
       "}\n",
       "\n",
       "#sk-container-id-2 div.sk-container {\n",
       "  /* jupyter's `normalize.less` sets `[hidden] { display: none; }`\n",
       "     but bootstrap.min.css set `[hidden] { display: none !important; }`\n",
       "     so we also need the `!important` here to be able to override the\n",
       "     default hidden behavior on the sphinx rendered scikit-learn.org.\n",
       "     See: https://github.com/scikit-learn/scikit-learn/issues/21755 */\n",
       "  display: inline-block !important;\n",
       "  position: relative;\n",
       "}\n",
       "\n",
       "#sk-container-id-2 div.sk-text-repr-fallback {\n",
       "  display: none;\n",
       "}\n",
       "\n",
       "div.sk-parallel-item,\n",
       "div.sk-serial,\n",
       "div.sk-item {\n",
       "  /* draw centered vertical line to link estimators */\n",
       "  background-image: linear-gradient(var(--sklearn-color-text-on-default-background), var(--sklearn-color-text-on-default-background));\n",
       "  background-size: 2px 100%;\n",
       "  background-repeat: no-repeat;\n",
       "  background-position: center center;\n",
       "}\n",
       "\n",
       "/* Parallel-specific style estimator block */\n",
       "\n",
       "#sk-container-id-2 div.sk-parallel-item::after {\n",
       "  content: \"\";\n",
       "  width: 100%;\n",
       "  border-bottom: 2px solid var(--sklearn-color-text-on-default-background);\n",
       "  flex-grow: 1;\n",
       "}\n",
       "\n",
       "#sk-container-id-2 div.sk-parallel {\n",
       "  display: flex;\n",
       "  align-items: stretch;\n",
       "  justify-content: center;\n",
       "  background-color: var(--sklearn-color-background);\n",
       "  position: relative;\n",
       "}\n",
       "\n",
       "#sk-container-id-2 div.sk-parallel-item {\n",
       "  display: flex;\n",
       "  flex-direction: column;\n",
       "}\n",
       "\n",
       "#sk-container-id-2 div.sk-parallel-item:first-child::after {\n",
       "  align-self: flex-end;\n",
       "  width: 50%;\n",
       "}\n",
       "\n",
       "#sk-container-id-2 div.sk-parallel-item:last-child::after {\n",
       "  align-self: flex-start;\n",
       "  width: 50%;\n",
       "}\n",
       "\n",
       "#sk-container-id-2 div.sk-parallel-item:only-child::after {\n",
       "  width: 0;\n",
       "}\n",
       "\n",
       "/* Serial-specific style estimator block */\n",
       "\n",
       "#sk-container-id-2 div.sk-serial {\n",
       "  display: flex;\n",
       "  flex-direction: column;\n",
       "  align-items: center;\n",
       "  background-color: var(--sklearn-color-background);\n",
       "  padding-right: 1em;\n",
       "  padding-left: 1em;\n",
       "}\n",
       "\n",
       "\n",
       "/* Toggleable style: style used for estimator/Pipeline/ColumnTransformer box that is\n",
       "clickable and can be expanded/collapsed.\n",
       "- Pipeline and ColumnTransformer use this feature and define the default style\n",
       "- Estimators will overwrite some part of the style using the `sk-estimator` class\n",
       "*/\n",
       "\n",
       "/* Pipeline and ColumnTransformer style (default) */\n",
       "\n",
       "#sk-container-id-2 div.sk-toggleable {\n",
       "  /* Default theme specific background. It is overwritten whether we have a\n",
       "  specific estimator or a Pipeline/ColumnTransformer */\n",
       "  background-color: var(--sklearn-color-background);\n",
       "}\n",
       "\n",
       "/* Toggleable label */\n",
       "#sk-container-id-2 label.sk-toggleable__label {\n",
       "  cursor: pointer;\n",
       "  display: block;\n",
       "  width: 100%;\n",
       "  margin-bottom: 0;\n",
       "  padding: 0.5em;\n",
       "  box-sizing: border-box;\n",
       "  text-align: center;\n",
       "}\n",
       "\n",
       "#sk-container-id-2 label.sk-toggleable__label-arrow:before {\n",
       "  /* Arrow on the left of the label */\n",
       "  content: \"▸\";\n",
       "  float: left;\n",
       "  margin-right: 0.25em;\n",
       "  color: var(--sklearn-color-icon);\n",
       "}\n",
       "\n",
       "#sk-container-id-2 label.sk-toggleable__label-arrow:hover:before {\n",
       "  color: var(--sklearn-color-text);\n",
       "}\n",
       "\n",
       "/* Toggleable content - dropdown */\n",
       "\n",
       "#sk-container-id-2 div.sk-toggleable__content {\n",
       "  max-height: 0;\n",
       "  max-width: 0;\n",
       "  overflow: hidden;\n",
       "  text-align: left;\n",
       "  /* unfitted */\n",
       "  background-color: var(--sklearn-color-unfitted-level-0);\n",
       "}\n",
       "\n",
       "#sk-container-id-2 div.sk-toggleable__content.fitted {\n",
       "  /* fitted */\n",
       "  background-color: var(--sklearn-color-fitted-level-0);\n",
       "}\n",
       "\n",
       "#sk-container-id-2 div.sk-toggleable__content pre {\n",
       "  margin: 0.2em;\n",
       "  border-radius: 0.25em;\n",
       "  color: var(--sklearn-color-text);\n",
       "  /* unfitted */\n",
       "  background-color: var(--sklearn-color-unfitted-level-0);\n",
       "}\n",
       "\n",
       "#sk-container-id-2 div.sk-toggleable__content.fitted pre {\n",
       "  /* unfitted */\n",
       "  background-color: var(--sklearn-color-fitted-level-0);\n",
       "}\n",
       "\n",
       "#sk-container-id-2 input.sk-toggleable__control:checked~div.sk-toggleable__content {\n",
       "  /* Expand drop-down */\n",
       "  max-height: 200px;\n",
       "  max-width: 100%;\n",
       "  overflow: auto;\n",
       "}\n",
       "\n",
       "#sk-container-id-2 input.sk-toggleable__control:checked~label.sk-toggleable__label-arrow:before {\n",
       "  content: \"▾\";\n",
       "}\n",
       "\n",
       "/* Pipeline/ColumnTransformer-specific style */\n",
       "\n",
       "#sk-container-id-2 div.sk-label input.sk-toggleable__control:checked~label.sk-toggleable__label {\n",
       "  color: var(--sklearn-color-text);\n",
       "  background-color: var(--sklearn-color-unfitted-level-2);\n",
       "}\n",
       "\n",
       "#sk-container-id-2 div.sk-label.fitted input.sk-toggleable__control:checked~label.sk-toggleable__label {\n",
       "  background-color: var(--sklearn-color-fitted-level-2);\n",
       "}\n",
       "\n",
       "/* Estimator-specific style */\n",
       "\n",
       "/* Colorize estimator box */\n",
       "#sk-container-id-2 div.sk-estimator input.sk-toggleable__control:checked~label.sk-toggleable__label {\n",
       "  /* unfitted */\n",
       "  background-color: var(--sklearn-color-unfitted-level-2);\n",
       "}\n",
       "\n",
       "#sk-container-id-2 div.sk-estimator.fitted input.sk-toggleable__control:checked~label.sk-toggleable__label {\n",
       "  /* fitted */\n",
       "  background-color: var(--sklearn-color-fitted-level-2);\n",
       "}\n",
       "\n",
       "#sk-container-id-2 div.sk-label label.sk-toggleable__label,\n",
       "#sk-container-id-2 div.sk-label label {\n",
       "  /* The background is the default theme color */\n",
       "  color: var(--sklearn-color-text-on-default-background);\n",
       "}\n",
       "\n",
       "/* On hover, darken the color of the background */\n",
       "#sk-container-id-2 div.sk-label:hover label.sk-toggleable__label {\n",
       "  color: var(--sklearn-color-text);\n",
       "  background-color: var(--sklearn-color-unfitted-level-2);\n",
       "}\n",
       "\n",
       "/* Label box, darken color on hover, fitted */\n",
       "#sk-container-id-2 div.sk-label.fitted:hover label.sk-toggleable__label.fitted {\n",
       "  color: var(--sklearn-color-text);\n",
       "  background-color: var(--sklearn-color-fitted-level-2);\n",
       "}\n",
       "\n",
       "/* Estimator label */\n",
       "\n",
       "#sk-container-id-2 div.sk-label label {\n",
       "  font-family: monospace;\n",
       "  font-weight: bold;\n",
       "  display: inline-block;\n",
       "  line-height: 1.2em;\n",
       "}\n",
       "\n",
       "#sk-container-id-2 div.sk-label-container {\n",
       "  text-align: center;\n",
       "}\n",
       "\n",
       "/* Estimator-specific */\n",
       "#sk-container-id-2 div.sk-estimator {\n",
       "  font-family: monospace;\n",
       "  border: 1px dotted var(--sklearn-color-border-box);\n",
       "  border-radius: 0.25em;\n",
       "  box-sizing: border-box;\n",
       "  margin-bottom: 0.5em;\n",
       "  /* unfitted */\n",
       "  background-color: var(--sklearn-color-unfitted-level-0);\n",
       "}\n",
       "\n",
       "#sk-container-id-2 div.sk-estimator.fitted {\n",
       "  /* fitted */\n",
       "  background-color: var(--sklearn-color-fitted-level-0);\n",
       "}\n",
       "\n",
       "/* on hover */\n",
       "#sk-container-id-2 div.sk-estimator:hover {\n",
       "  /* unfitted */\n",
       "  background-color: var(--sklearn-color-unfitted-level-2);\n",
       "}\n",
       "\n",
       "#sk-container-id-2 div.sk-estimator.fitted:hover {\n",
       "  /* fitted */\n",
       "  background-color: var(--sklearn-color-fitted-level-2);\n",
       "}\n",
       "\n",
       "/* Specification for estimator info (e.g. \"i\" and \"?\") */\n",
       "\n",
       "/* Common style for \"i\" and \"?\" */\n",
       "\n",
       ".sk-estimator-doc-link,\n",
       "a:link.sk-estimator-doc-link,\n",
       "a:visited.sk-estimator-doc-link {\n",
       "  float: right;\n",
       "  font-size: smaller;\n",
       "  line-height: 1em;\n",
       "  font-family: monospace;\n",
       "  background-color: var(--sklearn-color-background);\n",
       "  border-radius: 1em;\n",
       "  height: 1em;\n",
       "  width: 1em;\n",
       "  text-decoration: none !important;\n",
       "  margin-left: 1ex;\n",
       "  /* unfitted */\n",
       "  border: var(--sklearn-color-unfitted-level-1) 1pt solid;\n",
       "  color: var(--sklearn-color-unfitted-level-1);\n",
       "}\n",
       "\n",
       ".sk-estimator-doc-link.fitted,\n",
       "a:link.sk-estimator-doc-link.fitted,\n",
       "a:visited.sk-estimator-doc-link.fitted {\n",
       "  /* fitted */\n",
       "  border: var(--sklearn-color-fitted-level-1) 1pt solid;\n",
       "  color: var(--sklearn-color-fitted-level-1);\n",
       "}\n",
       "\n",
       "/* On hover */\n",
       "div.sk-estimator:hover .sk-estimator-doc-link:hover,\n",
       ".sk-estimator-doc-link:hover,\n",
       "div.sk-label-container:hover .sk-estimator-doc-link:hover,\n",
       ".sk-estimator-doc-link:hover {\n",
       "  /* unfitted */\n",
       "  background-color: var(--sklearn-color-unfitted-level-3);\n",
       "  color: var(--sklearn-color-background);\n",
       "  text-decoration: none;\n",
       "}\n",
       "\n",
       "div.sk-estimator.fitted:hover .sk-estimator-doc-link.fitted:hover,\n",
       ".sk-estimator-doc-link.fitted:hover,\n",
       "div.sk-label-container:hover .sk-estimator-doc-link.fitted:hover,\n",
       ".sk-estimator-doc-link.fitted:hover {\n",
       "  /* fitted */\n",
       "  background-color: var(--sklearn-color-fitted-level-3);\n",
       "  color: var(--sklearn-color-background);\n",
       "  text-decoration: none;\n",
       "}\n",
       "\n",
       "/* Span, style for the box shown on hovering the info icon */\n",
       ".sk-estimator-doc-link span {\n",
       "  display: none;\n",
       "  z-index: 9999;\n",
       "  position: relative;\n",
       "  font-weight: normal;\n",
       "  right: .2ex;\n",
       "  padding: .5ex;\n",
       "  margin: .5ex;\n",
       "  width: min-content;\n",
       "  min-width: 20ex;\n",
       "  max-width: 50ex;\n",
       "  color: var(--sklearn-color-text);\n",
       "  box-shadow: 2pt 2pt 4pt #999;\n",
       "  /* unfitted */\n",
       "  background: var(--sklearn-color-unfitted-level-0);\n",
       "  border: .5pt solid var(--sklearn-color-unfitted-level-3);\n",
       "}\n",
       "\n",
       ".sk-estimator-doc-link.fitted span {\n",
       "  /* fitted */\n",
       "  background: var(--sklearn-color-fitted-level-0);\n",
       "  border: var(--sklearn-color-fitted-level-3);\n",
       "}\n",
       "\n",
       ".sk-estimator-doc-link:hover span {\n",
       "  display: block;\n",
       "}\n",
       "\n",
       "/* \"?\"-specific style due to the `<a>` HTML tag */\n",
       "\n",
       "#sk-container-id-2 a.estimator_doc_link {\n",
       "  float: right;\n",
       "  font-size: 1rem;\n",
       "  line-height: 1em;\n",
       "  font-family: monospace;\n",
       "  background-color: var(--sklearn-color-background);\n",
       "  border-radius: 1rem;\n",
       "  height: 1rem;\n",
       "  width: 1rem;\n",
       "  text-decoration: none;\n",
       "  /* unfitted */\n",
       "  color: var(--sklearn-color-unfitted-level-1);\n",
       "  border: var(--sklearn-color-unfitted-level-1) 1pt solid;\n",
       "}\n",
       "\n",
       "#sk-container-id-2 a.estimator_doc_link.fitted {\n",
       "  /* fitted */\n",
       "  border: var(--sklearn-color-fitted-level-1) 1pt solid;\n",
       "  color: var(--sklearn-color-fitted-level-1);\n",
       "}\n",
       "\n",
       "/* On hover */\n",
       "#sk-container-id-2 a.estimator_doc_link:hover {\n",
       "  /* unfitted */\n",
       "  background-color: var(--sklearn-color-unfitted-level-3);\n",
       "  color: var(--sklearn-color-background);\n",
       "  text-decoration: none;\n",
       "}\n",
       "\n",
       "#sk-container-id-2 a.estimator_doc_link.fitted:hover {\n",
       "  /* fitted */\n",
       "  background-color: var(--sklearn-color-fitted-level-3);\n",
       "}\n",
       "</style><div id=\"sk-container-id-2\" class=\"sk-top-container\"><div class=\"sk-text-repr-fallback\"><pre>LinearRegression()</pre><b>In a Jupyter environment, please rerun this cell to show the HTML representation or trust the notebook. <br />On GitHub, the HTML representation is unable to render, please try loading this page with nbviewer.org.</b></div><div class=\"sk-container\" hidden><div class=\"sk-item\"><div class=\"sk-estimator fitted sk-toggleable\"><input class=\"sk-toggleable__control sk-hidden--visually\" id=\"sk-estimator-id-2\" type=\"checkbox\" checked><label for=\"sk-estimator-id-2\" class=\"sk-toggleable__label fitted sk-toggleable__label-arrow fitted\">&nbsp;&nbsp;LinearRegression<a class=\"sk-estimator-doc-link fitted\" rel=\"noreferrer\" target=\"_blank\" href=\"https://scikit-learn.org/1.5/modules/generated/sklearn.linear_model.LinearRegression.html\">?<span>Documentation for LinearRegression</span></a><span class=\"sk-estimator-doc-link fitted\">i<span>Fitted</span></span></label><div class=\"sk-toggleable__content fitted\"><pre>LinearRegression()</pre></div> </div></div></div></div>"
      ]
     },
     "execution_count": 29,
     "metadata": {},
     "output_type": "execute_result"
    }
   ],
   "execution_count": 29
  },
  {
   "metadata": {
    "ExecuteTime": {
     "end_time": "2024-11-11T08:48:43.487770Z",
     "start_time": "2024-11-11T08:48:43.470107Z"
    }
   },
   "cell_type": "code",
   "source": "y_pred_eval_lr = linear_model.predict(train_df_eval[feature_list])",
   "id": "e26c5c1672c032d7",
   "outputs": [],
   "execution_count": 30
  },
  {
   "cell_type": "code",
   "id": "53a51d7babd0189",
   "metadata": {
    "ExecuteTime": {
     "end_time": "2024-11-11T08:48:50.902671Z",
     "start_time": "2024-11-11T08:48:50.897600Z"
    }
   },
   "source": "mean_absolute_error(train_df_eval[target], y_pred_eval_lr)",
   "outputs": [
    {
     "data": {
      "text/plain": [
       "10601.547971758142"
      ]
     },
     "execution_count": 31,
     "metadata": {},
     "output_type": "execute_result"
    }
   ],
   "execution_count": 31
  },
  {
   "cell_type": "code",
   "id": "2052db6c1d0a2fee",
   "metadata": {
    "ExecuteTime": {
     "end_time": "2024-11-11T08:48:51.593174Z",
     "start_time": "2024-11-11T08:48:51.588789Z"
    }
   },
   "source": "root_mean_squared_error(train_df_eval[target], y_pred_eval_lr)",
   "outputs": [
    {
     "data": {
      "text/plain": [
       "27648.922283092077"
      ]
     },
     "execution_count": 32,
     "metadata": {},
     "output_type": "execute_result"
    }
   ],
   "execution_count": 32
  },
  {
   "cell_type": "code",
   "id": "2d2487e841847642",
   "metadata": {
    "ExecuteTime": {
     "end_time": "2024-11-11T08:48:52.387258Z",
     "start_time": "2024-11-11T08:48:52.381295Z"
    }
   },
   "source": "r2_score(train_df_eval[target], y_pred_eval_lr)",
   "outputs": [
    {
     "data": {
      "text/plain": [
       "0.9670441410217949"
      ]
     },
     "execution_count": 33,
     "metadata": {},
     "output_type": "execute_result"
    }
   ],
   "execution_count": 33
  },
  {
   "cell_type": "code",
   "id": "a38864738a7aebdc",
   "metadata": {
    "ExecuteTime": {
     "end_time": "2024-11-11T08:51:40.764851Z",
     "start_time": "2024-11-11T08:51:40.645333Z"
    }
   },
   "source": [
    "import matplotlib.pyplot as plt\n",
    "import numpy as np\n",
    "\n",
    "# Metrics for each model\n",
    "models = ['XGBoost', 'Random Forest', 'Linear Regression']\n",
    "mae = [3374.38, 6516.12, 10601.54]\n",
    "rmse = [15461.67, 25143.35, 27648.92]\n",
    "r2 = [0.97, 0.97, 0.96]\n",
    "\n",
    "# Create subplots for each metric\n",
    "fig, axs = plt.subplots(1, 3, figsize=(15, 5))\n",
    "\n",
    "# Plot MAE\n",
    "axs[0].bar(models, mae, color='skyblue')\n",
    "axs[0].set_title('Mean Absolute Error (MAE)')\n",
    "axs[0].set_ylabel('MAE')\n",
    "\n",
    "# Plot RMSE\n",
    "axs[1].bar(models, rmse, color='salmon')\n",
    "axs[1].set_title('Root Mean Squared Error (RMSE)')\n",
    "axs[1].set_ylabel('RMSE')\n",
    "\n",
    "# Plot R-squared\n",
    "axs[2].bar(models, r2, color='lightgreen')\n",
    "axs[2].set_title('R-squared (R²)')\n",
    "axs[2].set_ylabel('R²')\n",
    "\n",
    "plt.suptitle('Model Performance Comparison')\n",
    "plt.show()"
   ],
   "outputs": [
    {
     "data": {
      "text/plain": [
       "<Figure size 1500x500 with 3 Axes>"
      ],
      "image/png": "[encoded data removed]"
     },
     "metadata": {},
     "output_type": "display_data"
    }
   ],
   "execution_count": 35
  },
  {
   "metadata": {},
   "cell_type": "code",
   "outputs": [],
   "execution_count": null,
   "source": "",
   "id": "5e81df868f3f94c0"
  }
 ],
 "metadata": {
  "kernelspec": {
   "display_name": "cs5228-project",
   "language": "python",
   "name": "python3"
  },
  "language_info": {
   "codemirror_mode": {
    "name": "ipython",
    "version": 3
   },
   "file_extension": ".py",
   "mimetype": "text/x-python",
   "name": "python",
   "nbconvert_exporter": "python",
   "pygments_lexer": "ipython3",
   "version": "3.11.10"
  }
 },
 "nbformat": 4,
 "nbformat_minor": 5
}
